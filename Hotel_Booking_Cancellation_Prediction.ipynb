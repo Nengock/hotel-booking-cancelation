{
 "cells": [
  {
   "cell_type": "markdown",
   "metadata": {},
   "source": [
    "# Hotel Booking Cancellation Prediction\n",
    "Dataset Source: The \"Hotel Booking Demand\" dataset is available on Kaggle.\n",
    "\n",
    "## Project Steps:\n",
    "\n",
    "### Data Acquisition:\n",
    "- Download the dataset from Kaggle.\n",
    "\n",
    "### Data Exploration:\n",
    "- Load the dataset using pandas.\n",
    "- Inspect the first few rows to understand its structure.\n",
    "- Check for missing values and data types.\n",
    "\n",
    "### Data Cleaning:\n",
    "- Handle missing values appropriately (e.g., imputation or removal).\n",
    "- Convert data types if necessary.\n",
    "\n",
    "### Feature Engineering:\n",
    "- Create new features such as total stay duration.\n",
    "- Encode categorical variables using techniques like one-hot encoding.\n",
    "\n",
    "### Exploratory Data Analysis (EDA):\n",
    "- Visualize distributions of key features.\n",
    "- Analyze correlations between features and the target variable (is_canceled).\n",
    "\n",
    "### Model Building:\n",
    "- Split the data into training and testing sets.\n",
    "- Train classification models (e.g., Logistic Regression, Random Forest).\n",
    "- Evaluate model performance using metrics like accuracy and AUC-ROC.\n",
    "\n",
    "### Model Interpretation:\n",
    "- Identify important features influencing cancellations.\n",
    "- Visualize feature importances.\n",
    "\n",
    "### Conclusion:\n",
    "- Summarize findings and potential actions for hotel management.\n"
   ]
  },
  {
   "cell_type": "code",
   "execution_count": null,
   "metadata": {},
   "outputs": [],
   "source": [
    "# Data Acquisition\n",
    "import pandas as pd\n",
    "\n",
    "# Load the dataset\n",
    "df = pd.read_csv('path_to_dataset/hotel_bookings.csv')\n",
    "\n",
    "# Data Exploration\n",
    "df.head()\n"
   ]
  },
  {
   "cell_type": "code",
   "execution_count": null,
   "metadata": {},
   "outputs": [],
   "source": [
    "# Check for missing values and data types\n",
    "df.info()\n",
    "df.isnull().sum()\n"
   ]
  },
  {
   "cell_type": "code",
   "execution_count": null,
   "metadata": {},
   "outputs": [],
   "source": [
    "# Data Cleaning\n",
    "# Handle missing values\n",
    "df.fillna(method='ffill', inplace=True)\n",
    "\n",
    "# Convert data types if necessary\n",
    "# Example: df['column_name'] = df['column_name'].astype('int')\n"
   ]
  },
  {
   "cell_type": "code",
   "execution_count": null,
   "metadata": {},
   "outputs": [],
   "source": [
    "# Feature Engineering\n",
    "# Create new features\n",
    "df['total_stay_duration'] = df['stays_in_weekend_nights'] + df['stays_in_week_nights']\n",
    "\n",
    "# Encode categorical variables\n",
    "df = pd.get_dummies(df, columns=['hotel', 'meal', 'country', 'market_segment', 'distribution_channel', 'reserved_room_type', 'assigned_room_type', 'deposit_type', 'customer_type'])\n"
   ]
  },
  {
   "cell_type": "code",
   "execution_count": null,
   "metadata": {},
   "outputs": [],
   "source": [
    "# Exploratory Data Analysis (EDA)\n",
    "import matplotlib.pyplot as plt\n",
    "import seaborn as sns\n",
    "\n",
    "# Visualize distributions of key features\n",
    "sns.histplot(df['total_stay_duration'])\n",
    "plt.show()\n",
    "\n",
    "# Analyze correlations between features and the target variable (is_canceled)\n",
    "correlation_matrix = df.corr()\n",
    "sns.heatmap(correlation_matrix, annot=True)\n",
    "plt.show()\n"
   ]
  },
  {
   "cell_type": "code",
   "execution_count": null,
   "metadata": {},
   "outputs": [],
   "source": [
    "# Model Building\n",
    "from sklearn.model_selection import train_test_split\n",
    "from sklearn.linear_model import LogisticRegression\n",
    "from sklearn.ensemble import RandomForestClassifier\n",
    "from sklearn.metrics import accuracy_score, roc_auc_score\n",
    "\n",
    "# Split the data into training and testing sets\n",
    "X = df.drop('is_canceled', axis=1)\n",
    "y = df['is_canceled']\n",
    "X_train, X_test, y_train, y_test = train_test_split(X, y, test_size=0.2, random_state=42)\n",
    "\n",
    "# Train classification models\n",
    "log_reg = LogisticRegression(max_iter=1000)\n",
    "log_reg.fit(X_train, y_train)\n",
    "rf_clf = RandomForestClassifier(n_estimators=100)\n",
    "rf_clf.fit(X_train, y_train)\n",
    "\n",
    "# Evaluate model performance\n",
    "log_reg_pred = log_reg.predict(X_test)\n",
    "rf_clf_pred = rf_clf.predict(X_test)\n",
    "print('Logistic Regression Accuracy:', accuracy_score(y_test, log_reg_pred))\n",
    "print('Random Forest Accuracy:', accuracy_score(y_test, rf_clf_pred))\n",
    "print('Logistic Regression AUC-ROC:', roc_auc_score(y_test, log_reg_pred))\n",
    "print('Random Forest AUC-ROC:', roc_auc_score(y_test, rf_clf_pred))\n"
   ]
  },
  {
   "cell_type": "code",
   "execution_count": null,
   "metadata": {},
   "outputs": [],
   "source": [
    "# Model Interpretation\n",
    "importances = rf_clf.feature_importances_\n",
    "features = X.columns\n",
    "feature_importances = pd.Series(importances, index=features).sort_values(ascending=False)\n",
    "sns.barplot(x=feature_importances, y=feature_importances.index)\n",
    "plt.show()\n"
   ]
  },
  {
   "cell_type": "markdown",
   "metadata": {},
   "source": [
    "## Conclusion\n",
    "- Summarize findings and potential actions for hotel management.\n"
   ]
  }
 ],
 "metadata": {
  "kernelspec": {
   "display_name": "Python 3",
   "language": "python",
   "name": "python3"
  },
  "language_info": {
   "codemirror_mode": {
    "name": "ipython",
    "version": 3
   },
   "file_extension": ".py",
   "mimetype": "text/x-python",
   "name": "python",
   "nbconvert_exporter": "python",
   "pygments_lexer": "ipython3",
   "version": "3.8.5"
  }
 },
 "nbformat": 4,
 "nbformat_minor": 4
}
